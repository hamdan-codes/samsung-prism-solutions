{
 "cells": [
  {
   "cell_type": "markdown",
   "metadata": {},
   "source": [
    "## Chaudhary Hamdan\n",
    "<br>\n",
    "<h4> <a href=\"mailto:ch.hamdan.edu@gmail.com\"> ch.hamdan.edu@gmail.com </a>"
   ]
  },
  {
   "cell_type": "markdown",
   "metadata": {},
   "source": [
    "#### Questions and their Solutions came in my Samsung Prism Exam Today (16th Feb)"
   ]
  },
  {
   "cell_type": "code",
   "execution_count": null,
   "metadata": {},
   "outputs": [],
   "source": []
  },
  {
   "cell_type": "markdown",
   "metadata": {},
   "source": [
    "### Question 1 . Given two binary strings, find and return the sum of those two numbers represented by those strings.\n",
    "<br>\n",
    "#### Ex. num1 = 1001, num2 = 11\n",
    "#### Answer to be returned = 1100 (=9(1001) + 3(11) )"
   ]
  },
  {
   "cell_type": "code",
   "execution_count": 1,
   "metadata": {},
   "outputs": [
    {
     "data": {
      "text/plain": [
       "'1100'"
      ]
     },
     "execution_count": 1,
     "metadata": {},
     "output_type": "execute_result"
    }
   ],
   "source": [
    "def sumofStrings(num1,num2):\n",
    "    num1 = \"0\" + num1\n",
    "    num2 = \"0\" + num2\n",
    "    l1 = len(num1)\n",
    "    l2 = len(num2)\n",
    "    \n",
    "    add = \"\"\n",
    "    c = 0\n",
    "    if l2 > l1:\n",
    "        num1, num2 = num2, num1\n",
    "        l1, l2 = l2, l1\n",
    "    i = l1 - 1\n",
    "    j = l2 - 1\n",
    "    \n",
    "    while i >= 0:\n",
    "        if j >= 0:\n",
    "            a = int(num1[i]) + int(num2[j]) + c\n",
    "        else:\n",
    "            a = int(num1[i]) + c\n",
    "        \n",
    "        if a == 0:\n",
    "            c = 0\n",
    "            add = \"0\" + add\n",
    "        elif a == 1:\n",
    "            c = 0\n",
    "            add = \"1\" + add\n",
    "        elif a == 2:\n",
    "            c = 1\n",
    "            add = \"0\" + add\n",
    "        elif a == 3:\n",
    "            c = 1\n",
    "            add = \"1\" + add\n",
    "        \n",
    "        i -= 1\n",
    "        j -= 1\n",
    "    \n",
    "    idx = add.index(\"1\")\n",
    "    return add[idx:]\n",
    "    \n",
    "    \n",
    "#------------------------------------------------------------------------\n",
    "\n",
    "# Testing\n",
    "sumofStrings('1001','11')"
   ]
  },
  {
   "cell_type": "markdown",
   "metadata": {},
   "source": [
    "### Question 2 . Given root of a tree find the sum of all left leaf nodes.\n",
    "<br>\n",
    "<h4>Refer this : <a href=\"https://www.geeksforgeeks.org/find-sum-left-leaves-given-binary-tree/\">https://www.geeksforgeeks.org/find-sum-left-leaves-given-binary-tree/</a></h4>\n",
    "<br>\n",
    "#### Ex. No Tree can be drawn here."
   ]
  },
  {
   "cell_type": "code",
   "execution_count": 2,
   "metadata": {},
   "outputs": [],
   "source": [
    "def isLeaf(node):\n",
    "    if node is None:\n",
    "        return False\n",
    "    if node.left is None and node.right is None:\n",
    "        return True\n",
    "    return False\n",
    "\n",
    "def leftLeavesSum(root):\n",
    "    res = 0\n",
    "    if root is not None:\n",
    "        if isLeaf(root.left):\n",
    "            res += root.left.key\n",
    "        else:\n",
    "            res += leftLeavesSum(root.left)\n",
    "\n",
    "        res += leftLeavesSum(root.right)\n",
    "    return res\n",
    " "
   ]
  },
  {
   "cell_type": "markdown",
   "metadata": {},
   "source": [
    "### Question 3 . Given root of a tree and a key. Find the sum of cousin nodes at that level\n",
    "<br>\n",
    "<h4>Refer this : <a href=\"https://www.geeksforgeeks.org/sum-of-cousins-of-a-given-node-in-a-binary-tree/\">https://www.geeksforgeeks.org/sum-of-cousins-of-a-given-node-in-a-binary-tree/</a></h4>\n",
    "<br>\n",
    "#### Ex. No Tree can be drawn here."
   ]
  },
  {
   "cell_type": "code",
   "execution_count": 3,
   "metadata": {},
   "outputs": [],
   "source": [
    "def findCousinSum( root, key): \n",
    "    if (root == None):  \n",
    "        return -1\n",
    "    if (root.data == key): \n",
    "        return -1\n",
    "\n",
    "    currSum = 0\n",
    "    size = 0\n",
    "    q = []  \n",
    "    q.append(root)  \n",
    "    found = False\n",
    "\n",
    "    while (len(q)):  \n",
    "        if (found == True):  \n",
    "            return currSum  \n",
    "\n",
    "        size = len(q) \n",
    "        currSum = 0\n",
    "\n",
    "        while (size):  \n",
    "            root = q[0]  \n",
    "            q.pop(0)  \n",
    "\n",
    "            if ((root.left and root.left.data == key) or (root.right and root.right.data == key)) : \n",
    "                found = True\n",
    "            else: \n",
    "                if (root.left): \n",
    "                    currSum += root.left.data  \n",
    "                    q.append(root.left)  \n",
    "\n",
    "                if (root.right) : \n",
    "                    currSum += root.right.data  \n",
    "                    q.append(root.right)  \n",
    "\n",
    "            size -= 1\n",
    "    return -1"
   ]
  },
  {
   "cell_type": "code",
   "execution_count": null,
   "metadata": {},
   "outputs": [],
   "source": []
  },
  {
   "cell_type": "markdown",
   "metadata": {},
   "source": [
    "## Chaudhary Hamdan\n",
    "<br>\n",
    "<h4> <a href=\"mailto:ch.hamdan.edu@gmail.com\"> ch.hamdan.edu@gmail.com </a>"
   ]
  },
  {
   "cell_type": "markdown",
   "metadata": {},
   "source": [
    "### Thank You"
   ]
  },
  {
   "cell_type": "code",
   "execution_count": null,
   "metadata": {},
   "outputs": [],
   "source": []
  }
 ],
 "metadata": {
  "kernelspec": {
   "display_name": "Python 3",
   "language": "python",
   "name": "python3"
  },
  "language_info": {
   "codemirror_mode": {
    "name": "ipython",
    "version": 3
   },
   "file_extension": ".py",
   "mimetype": "text/x-python",
   "name": "python",
   "nbconvert_exporter": "python",
   "pygments_lexer": "ipython3",
   "version": "3.6.5"
  }
 },
 "nbformat": 4,
 "nbformat_minor": 2
}
